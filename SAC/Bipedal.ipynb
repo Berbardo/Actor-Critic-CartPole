{
 "cells": [
  {
   "cell_type": "code",
   "execution_count": 1,
   "metadata": {},
   "outputs": [
    {
     "name": "stderr",
     "output_type": "stream",
     "text": [
      "D:\\ProgramData\\Anaconda3\\lib\\site-packages\\gym\\logger.py:30: UserWarning: \u001b[33mWARN: Box bound precision lowered by casting to float32\u001b[0m\n",
      "  warnings.warn(colorize('%s: %s'%('WARN', msg % args), 'yellow'))\n"
     ]
    },
    {
     "data": {
      "text/plain": [
       "[0]"
      ]
     },
     "execution_count": 1,
     "metadata": {},
     "output_type": "execute_result"
    }
   ],
   "source": [
    "import gym\n",
    "\n",
    "env = gym.make(\"BipedalWalker-v3\")\n",
    "env.seed(0)"
   ]
  },
  {
   "cell_type": "code",
   "execution_count": 2,
   "metadata": {},
   "outputs": [],
   "source": [
    "from sac import SAC\n",
    "\n",
    "actor = SAC(env)"
   ]
  },
  {
   "cell_type": "code",
   "execution_count": 3,
   "metadata": {},
   "outputs": [],
   "source": [
    "import itertools\n",
    "\n",
    "def get_experiences(env, actor, episodes=50):\n",
    "    for episode in range(0, episodes):\n",
    "        obs = env.reset()\n",
    "        done = False\n",
    "        for t in itertools.count():\n",
    "            action = actor.act(obs)\n",
    "            obs2, reward, done, _ = env.step(action)\n",
    "            actor.remember(obs, action, reward, obs2, done)\n",
    "            obs = obs2\n",
    "            if done:\n",
    "                break"
   ]
  },
  {
   "cell_type": "code",
   "execution_count": 4,
   "metadata": {},
   "outputs": [],
   "source": [
    "import itertools\n",
    "import numpy as np\n",
    "\n",
    "def train(env, actor, episodes=100):\n",
    "    returns = []\n",
    "    mean = 0\n",
    "    for episode in range(1, episodes+1):\n",
    "        obs = env.reset()\n",
    "        score = 0\n",
    "        for t in itertools.count():\n",
    "            action = actor.act(obs)\n",
    "            obs2, reward, done, _ = env.step(action)\n",
    "            actor.remember(obs, action, reward, obs2, done)  \n",
    "            actor.train(64)\n",
    "            obs = obs2\n",
    "            score += reward\n",
    "            if done:\n",
    "                returns.append(score)\n",
    "                mean = np.mean(returns[-10:])\n",
    "                print(\"Episode: \" + str(episode) + \", Score: \" +str(score) + \", Mean Score: \" + str(mean))\n",
    "                if mean > 180:\n",
    "                    return returns\n",
    "                break    \n",
    "    return returns"
   ]
  },
  {
   "cell_type": "code",
   "execution_count": 5,
   "metadata": {},
   "outputs": [],
   "source": [
    "get_experiences(env, actor, episodes=25)"
   ]
  },
  {
   "cell_type": "code",
   "execution_count": 6,
   "metadata": {},
   "outputs": [
    {
     "name": "stdout",
     "output_type": "stream",
     "text": [
      "Episode: 1, Score: -101.81755219343673, Mean Score: -101.81755219343673\n",
      "Episode: 2, Score: -84.19058183202671, Mean Score: -93.00406701273172\n",
      "Episode: 3, Score: -101.1913061184436, Mean Score: -95.73314671463568\n",
      "Episode: 4, Score: -103.62071686024653, Mean Score: -97.7050392510384\n",
      "Episode: 5, Score: -120.38726336767463, Mean Score: -102.24148407436564\n",
      "Episode: 6, Score: -110.27422991167226, Mean Score: -103.58027504725008\n",
      "Episode: 7, Score: -104.2840523895737, Mean Score: -103.68081466758203\n",
      "Episode: 8, Score: -84.1793520567383, Mean Score: -101.24313184122656\n",
      "Episode: 9, Score: -86.73114406322159, Mean Score: -99.63068875478156\n",
      "Episode: 10, Score: -70.72162522622189, Mean Score: -96.7397824019256\n",
      "Episode: 11, Score: -77.67369018586956, Mean Score: -94.32539620116887\n",
      "Episode: 12, Score: -95.60289625531928, Mean Score: -95.46662764349813\n",
      "Episode: 13, Score: -118.25739276006384, Mean Score: -97.17323630766015\n",
      "Episode: 14, Score: -100.83673194448899, Mean Score: -96.89483781608439\n",
      "Episode: 15, Score: -86.46202182474816, Mean Score: -93.50231366179176\n",
      "Episode: 16, Score: -63.19159939414874, Mean Score: -88.7940506100394\n",
      "Episode: 17, Score: -113.17179588751495, Mean Score: -89.68282495983352\n",
      "Episode: 18, Score: -94.42626282570508, Mean Score: -90.7075160367302\n",
      "Episode: 19, Score: -136.20392924744067, Mean Score: -95.65479455515211\n",
      "Episode: 20, Score: -49.53753076552952, Mean Score: -93.53638510908287\n",
      "Episode: 21, Score: -165.2513642855912, Mean Score: -102.29415251905503\n",
      "Episode: 22, Score: -175.20238359206138, Mean Score: -110.25410125272927\n",
      "Episode: 23, Score: -92.40376955436977, Mean Score: -107.66873893215984\n",
      "Episode: 24, Score: -87.6041395352782, Mean Score: -106.34547969123875\n",
      "Episode: 25, Score: -118.40781262006799, Mean Score: -109.54005877077074\n",
      "Episode: 26, Score: -97.11726304937226, Mean Score: -112.93262513629311\n",
      "Episode: 27, Score: -59.63340079336083, Mean Score: -107.57878562687767\n",
      "Episode: 28, Score: -71.88764578771791, Mean Score: -105.32492392307897\n",
      "Episode: 29, Score: -57.75775332645966, Mean Score: -97.48030633098088\n",
      "Episode: 30, Score: -82.23469197287376, Mean Score: -100.7500224517153\n",
      "Episode: 31, Score: -69.14323260801802, Mean Score: -91.13920928395797\n",
      "Episode: 32, Score: -110.9923515068312, Mean Score: -84.71820607543495\n",
      "Episode: 33, Score: -62.71468031650185, Mean Score: -81.74929715164816\n",
      "Episode: 34, Score: -152.4111113027824, Mean Score: -88.22999432839859\n",
      "Episode: 35, Score: -146.1137839035982, Mean Score: -91.00059145675161\n",
      "Episode: 36, Score: -65.91458704039356, Mean Score: -87.88032385585375\n",
      "Episode: 37, Score: -74.23390543658216, Mean Score: -89.34037432017588\n",
      "Episode: 38, Score: -179.17356982453816, Mean Score: -100.0689667238579\n",
      "Episode: 39, Score: -83.20654583166531, Mean Score: -102.61384597437848\n",
      "Episode: 40, Score: -60.16698349868809, Mean Score: -100.40707512695988\n",
      "Episode: 41, Score: -54.22623047411929, Mean Score: -98.91537491357003\n",
      "Episode: 42, Score: -64.01778917284439, Mean Score: -94.21791868017134\n",
      "Episode: 43, Score: -65.63514306440423, Mean Score: -94.50996495496157\n",
      "Episode: 44, Score: -64.96993397016635, Mean Score: -85.76584722169999\n",
      "Episode: 45, Score: -50.54741775036347, Mean Score: -76.2092106063765\n",
      "Episode: 46, Score: -49.42025649296174, Mean Score: -74.55977755163332\n",
      "Episode: 47, Score: -59.104853565511156, Mean Score: -73.04687236452621\n",
      "Episode: 48, Score: -69.57067609875263, Mean Score: -62.08658299194766\n",
      "Episode: 49, Score: -62.09338374865673, Mean Score: -59.9752667836468\n",
      "Episode: 50, Score: -51.72150520109725, Mean Score: -59.13071895388772\n",
      "Episode: 51, Score: -48.19020082618727, Mean Score: -58.527115989094526\n",
      "Episode: 52, Score: -39.128031680097415, Mean Score: -56.03814023981981\n",
      "Episode: 53, Score: -43.32375961686115, Mean Score: -53.807001895065525\n",
      "Episode: 54, Score: -40.911193125289316, Mean Score: -51.40112781057782\n",
      "Episode: 55, Score: -35.78282464025676, Mean Score: -49.92466849956715\n",
      "Episode: 56, Score: -19.140555037975943, Mean Score: -46.89669835406856\n",
      "Episode: 57, Score: -29.15271476638358, Mean Score: -43.9014844741558\n",
      "Episode: 58, Score: -35.351698201278964, Mean Score: -40.47958668440844\n",
      "Episode: 59, Score: -22.072430488922002, Mean Score: -36.47749135843497\n",
      "Episode: 60, Score: -123.743833098435, Mean Score: -43.679724148168745\n",
      "Episode: 61, Score: -116.41469430062268, Mean Score: -50.50217349561228\n",
      "Episode: 62, Score: -24.638229045168334, Mean Score: -49.05319323211937\n",
      "Episode: 63, Score: -50.0975575579439, Mean Score: -49.730573026227646\n",
      "Episode: 64, Score: -42.91818947727888, Mean Score: -49.931272661426604\n",
      "Episode: 65, Score: -45.78229837398945, Mean Score: -50.931220034799864\n",
      "Episode: 66, Score: -38.22032901540598, Mean Score: -52.83919743254287\n",
      "Episode: 67, Score: -24.177937508813148, Mean Score: -52.34171970678583\n",
      "Episode: 68, Score: -19.483486155295335, Mean Score: -50.75489850218747\n",
      "Episode: 69, Score: -20.646555658893554, Mean Score: -50.61231101918462\n",
      "Episode: 70, Score: -29.274257775533176, Mean Score: -41.16535348689444\n",
      "Episode: 71, Score: -26.90428721339446, Mean Score: -32.21431277817162\n",
      "Episode: 72, Score: -70.88724087308525, Mean Score: -36.83921396096331\n",
      "Episode: 73, Score: -56.30035341541098, Mean Score: -37.45949354671002\n",
      "Episode: 74, Score: -29.481369374537714, Mean Score: -36.115811536435906\n",
      "Episode: 75, Score: -26.168477664030814, Mean Score: -34.154429465440046\n",
      "Episode: 76, Score: -39.762711596770444, Mean Score: -34.30866772357649\n",
      "Episode: 77, Score: -28.045749899755062, Mean Score: -34.69544896267068\n",
      "Episode: 78, Score: -20.40501884294343, Mean Score: -34.787602231435486\n",
      "Episode: 79, Score: 17.34292582292868, Mean Score: -30.988654083253266\n",
      "Episode: 80, Score: 2.9524145400343644, Mean Score: -27.76598685169651\n",
      "Episode: 81, Score: -41.439500720590374, Mean Score: -29.2195082024161\n",
      "Episode: 82, Score: -35.09400371830488, Mean Score: -25.64018448693806\n",
      "Episode: 83, Score: -26.73291157232371, Mean Score: -22.68344030262934\n",
      "Episode: 84, Score: -10.53707953067644, Mean Score: -20.789011318243208\n",
      "Episode: 85, Score: -22.129695353967072, Mean Score: -20.385133087236838\n",
      "Episode: 86, Score: -27.55228372278479, Mean Score: -19.16409029983827\n",
      "Episode: 87, Score: -12.320998794947384, Mean Score: -17.591615189357505\n",
      "Episode: 88, Score: -17.168720775073233, Mean Score: -17.26798538257048\n",
      "Episode: 89, Score: -4.562855421302185, Mean Score: -19.45856350699357\n",
      "Episode: 90, Score: 12.028253142043402, Mean Score: -18.550979646792666\n",
      "Episode: 91, Score: -7.9338560664326225, Mean Score: -15.200415181376888\n",
      "Episode: 92, Score: 0.5788070855586974, Mean Score: -11.633134100990535\n",
      "Episode: 93, Score: 5.674034771299427, Mean Score: -8.39243946662822\n",
      "Episode: 94, Score: 5.491787695462185, Mean Score: -6.789552744014358\n",
      "Episode: 95, Score: -2.282104765948077, Mean Score: -4.8047936852124575\n",
      "Episode: 96, Score: -31.996098434702795, Mean Score: -5.249175156404259\n",
      "Episode: 97, Score: -101.74526417812767, Mean Score: -14.191601694722289\n",
      "Episode: 98, Score: -38.887039114397666, Mean Score: -16.36343352865473\n",
      "Episode: 99, Score: -35.24157572403062, Mean Score: -19.431305558927573\n",
      "Episode: 100, Score: -34.54739246969968, Mean Score: -24.08887012010188\n",
      "Episode: 101, Score: -35.2425109792046, Mean Score: -26.81973561137908\n",
      "Episode: 102, Score: -26.90046141596036, Mean Score: -29.56766246153099\n",
      "Episode: 103, Score: 25.08887904654719, Mean Score: -27.626178034006205\n",
      "Episode: 104, Score: 52.504723545578486, Mean Score: -22.92488444899458\n",
      "Episode: 105, Score: 40.578653206368834, Mean Score: -18.638808651762893\n",
      "Episode: 106, Score: 53.9746107687901, Mean Score: -10.041737731413598\n",
      "Episode: 107, Score: 57.49669168378592, Mean Score: 5.88245785477776\n",
      "Episode: 108, Score: 30.814953522354337, Mean Score: 12.852657118452958\n",
      "Episode: 109, Score: 42.83107781456551, Mean Score: 20.659922472312573\n",
      "Episode: 110, Score: 49.330854734257514, Mean Score: 29.047747192708293\n",
      "Episode: 111, Score: 33.784950947200066, Mean Score: 35.950493385348764\n",
      "Episode: 112, Score: 29.033569361934948, Mean Score: 41.54389646313829\n",
      "Episode: 113, Score: 45.118129784729625, Mean Score: 43.54682153695653\n",
      "Episode: 114, Score: 19.348832938121504, Mean Score: 40.231232476210835\n",
      "Episode: 115, Score: 43.83561343994632, Mean Score: 40.556928499568585\n"
     ]
    },
    {
     "name": "stdout",
     "output_type": "stream",
     "text": [
      "Episode: 116, Score: 58.15015099764561, Mean Score: 40.97448252245413\n",
      "Episode: 117, Score: 23.802792140900827, Mean Score: 37.605092568165624\n",
      "Episode: 118, Score: 6.616588081401726, Mean Score: 35.18525602407037\n",
      "Episode: 119, Score: -2.662634727170381, Mean Score: 30.635884769896773\n",
      "Episode: 120, Score: 17.898506000647906, Mean Score: 27.492649896535816\n",
      "Episode: 121, Score: 53.95279095583189, Mean Score: 29.509433897398992\n",
      "Episode: 122, Score: 36.370816614497166, Mean Score: 30.243158622655223\n",
      "Episode: 123, Score: 19.913287489051044, Mean Score: 27.722674393087356\n",
      "Episode: 124, Score: 66.60019975154252, Mean Score: 32.44781107442946\n",
      "Episode: 125, Score: 77.47472625313138, Mean Score: 35.81172235574797\n",
      "Episode: 126, Score: 71.48878547799593, Mean Score: 37.145585803783\n",
      "Episode: 127, Score: 89.85439704570703, Mean Score: 43.750746294263614\n",
      "Episode: 128, Score: 80.07450309314196, Mean Score: 51.09653779543764\n",
      "Episode: 129, Score: 72.13902081565458, Mean Score: 58.57670334972014\n",
      "Episode: 130, Score: 74.41227859807628, Mean Score: 64.22808060946298\n",
      "Episode: 131, Score: 109.11563927510863, Mean Score: 69.74436544139064\n",
      "Episode: 132, Score: 65.29906654800705, Mean Score: 72.63719043474165\n",
      "Episode: 133, Score: 20.99730344054544, Mean Score: 72.74559202989109\n",
      "Episode: 134, Score: 29.55311772654088, Mean Score: 69.04088382739091\n",
      "Episode: 135, Score: 47.16453441270998, Mean Score: 66.00986464334878\n",
      "Episode: 136, Score: 104.6205963393982, Mean Score: 69.323045729489\n",
      "Episode: 137, Score: 112.66576045588548, Mean Score: 71.60418207050684\n",
      "Episode: 138, Score: 108.7736036858597, Mean Score: 74.47409212977863\n",
      "Episode: 139, Score: -60.928032147679225, Mean Score: 61.167386833445235\n",
      "Episode: 140, Score: 90.80080252367983, Mean Score: 62.80623922600561\n",
      "Episode: 141, Score: -109.97256004729697, Mean Score: 40.89741929376504\n",
      "Episode: 142, Score: -110.62851559170397, Mean Score: 23.304661079793934\n",
      "Episode: 143, Score: -111.02604056610416, Mean Score: 10.102326679128971\n",
      "Episode: 144, Score: -106.05216512623103, Mean Score: -3.4582016061482164\n",
      "Episode: 145, Score: 127.4790231749867, Mean Score: 4.5732472700794515\n",
      "Episode: 146, Score: 147.02123647181546, Mean Score: 8.813311283321177\n",
      "Episode: 147, Score: -51.59492461788034, Mean Score: -7.612757224055403\n",
      "Episode: 148, Score: 112.5752664270141, Mean Score: -7.232590949939964\n",
      "Episode: 149, Score: 113.16049296453471, Mean Score: 10.17626156128143\n",
      "Episode: 150, Score: 132.01249373978771, Mean Score: 14.297430682892221\n",
      "Episode: 151, Score: 110.10566884147585, Mean Score: 36.305253571769505\n",
      "Episode: 152, Score: 112.75487089391932, Mean Score: 58.64359222033183\n",
      "Episode: 153, Score: 110.03228996375617, Mean Score: 80.74942527331787\n",
      "Episode: 154, Score: 104.33157439425945, Mean Score: 101.78779922536691\n",
      "Episode: 155, Score: 94.46200250425443, Mean Score: 98.48609715829369\n",
      "Episode: 156, Score: 67.25898410175199, Mean Score: 90.50987192128734\n",
      "Episode: 157, Score: 103.82306257458829, Mean Score: 106.05167064053418\n",
      "Episode: 158, Score: 114.8125734142155, Mean Score: 106.27540133925433\n",
      "Episode: 159, Score: 115.30315539132961, Mean Score: 106.48966758193383\n",
      "Episode: 160, Score: 141.99225108559463, Mean Score: 107.48764331651452\n",
      "Episode: 161, Score: 102.76410018358504, Mean Score: 106.75348645072545\n",
      "Episode: 162, Score: 97.92281437869104, Mean Score: 105.27028079920262\n",
      "Episode: 163, Score: 134.88477288055253, Mean Score: 107.75552909088223\n",
      "Episode: 164, Score: 132.34750229621187, Mean Score: 110.5571218810775\n",
      "Episode: 165, Score: 192.8642213249474, Mean Score: 120.3973437631468\n",
      "Episode: 166, Score: 213.9201230084792, Mean Score: 135.0634576538195\n",
      "Episode: 167, Score: 206.03865170277427, Mean Score: 145.28501656663815\n",
      "Episode: 168, Score: 207.7049195067023, Mean Score: 154.5742511758868\n",
      "Episode: 169, Score: 174.06132486889487, Mean Score: 160.45006812364332\n",
      "Episode: 170, Score: 247.42351742428585, Mean Score: 170.9931947575124\n",
      "Episode: 171, Score: 252.50413279162865, Mean Score: 185.96719801831676\n"
     ]
    }
   ],
   "source": [
    "returns = train(env, actor, episodes=500)"
   ]
  },
  {
   "cell_type": "code",
   "execution_count": 7,
   "metadata": {},
   "outputs": [],
   "source": [
    "import imageio\n",
    "import itertools\n",
    "import numpy as np\n",
    "\n",
    "def run_episode(env, model, render=False, record=False):\n",
    "    images = []\n",
    "    obs = env.reset()\n",
    "    score = 0\n",
    "    for t in itertools.count():\n",
    "        if record:\n",
    "            images.append(env.render(mode='rgb_array'))\n",
    "        if render:\n",
    "            env.render()\n",
    "        action = model.act(obs, noise=False)\n",
    "        obs, reward, done, info = env.step(action)\n",
    "        score += reward\n",
    "        if done:\n",
    "            print(\"Score: \" + str(score))\n",
    "            env.close()\n",
    "            break\n",
    "            \n",
    "    if record:\n",
    "        imageio.mimsave('img/BipedalSAC.gif', [np.array(img) for i, img in enumerate(images) if i%2 == 0], fps=29)"
   ]
  },
  {
   "cell_type": "code",
   "execution_count": 17,
   "metadata": {},
   "outputs": [
    {
     "name": "stdout",
     "output_type": "stream",
     "text": [
      "Score: 194.00212597790335\n"
     ]
    }
   ],
   "source": [
    "run_episode(env, actor2, render=True, record=False)"
   ]
  },
  {
   "cell_type": "code",
   "execution_count": 9,
   "metadata": {},
   "outputs": [
    {
     "data": {
      "image/png": "[encoded data removed]",
      "text/plain": [
       "<Figure size 432x288 with 1 Axes>"
      ]
     },
     "metadata": {
      "needs_background": "light"
     },
     "output_type": "display_data"
    }
   ],
   "source": [
    "import matplotlib.pyplot as plt\n",
    "\n",
    "plt.plot(range(len(returns)), returns, label='Returns')\n",
    "plt.legend()\n",
    "plt.show()"
   ]
  }
 ],
 "metadata": {
  "kernelspec": {
   "display_name": "Python 3",
   "language": "python",
   "name": "python3"
  },
  "language_info": {
   "codemirror_mode": {
    "name": "ipython",
    "version": 3
   },
   "file_extension": ".py",
   "mimetype": "text/x-python",
   "name": "python",
   "nbconvert_exporter": "python",
   "pygments_lexer": "ipython3",
   "version": "3.7.6"
  }
 },
 "nbformat": 4,
 "nbformat_minor": 4
}
