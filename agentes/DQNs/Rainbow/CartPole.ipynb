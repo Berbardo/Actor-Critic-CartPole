{
 "cells": [
  {
   "cell_type": "code",
   "execution_count": 1,
   "metadata": {},
   "outputs": [],
   "source": [
    "import gym\n",
    "\n",
    "env = gym.vector.make(\"CartPole-v1\", num_envs=4, asynchronous=True)\n",
    "env.seed(0)"
   ]
  },
  {
   "cell_type": "code",
   "execution_count": 2,
   "metadata": {},
   "outputs": [],
   "source": [
    "from rainbow import Rainbow\n",
    "\n",
    "actor = Rainbow(env.single_observation_space, env.single_action_space, n_envs=4)"
   ]
  },
  {
   "cell_type": "code",
   "execution_count": 3,
   "metadata": {},
   "outputs": [],
   "source": [
    "import time\n",
    "import math\n",
    "import numpy as np\n",
    "\n",
    "def train(agent, env, total_timesteps, break_condition):\n",
    "    total_rewards = [[] for _ in range(env.num_envs)]\n",
    "    avg_total_rewards = []\n",
    "\n",
    "    total_reward = np.zeros(env.num_envs)\n",
    "    observations = env.reset()\n",
    "    timestep = 0\n",
    "    episode = 0\n",
    "\n",
    "    t = 0\n",
    "    \n",
    "    start_time = time.time()\n",
    "\n",
    "    while timestep < total_timesteps:\n",
    "        actions = agent.act(observations)\n",
    "        next_observations, rewards, dones, _ = env.step(actions)\n",
    "        agent.remember(observations, actions, rewards, next_observations, dones)\n",
    "        agent.train(32)\n",
    "        \n",
    "        timestep += len(observations)\n",
    "        t += 1\n",
    "\n",
    "        total_reward += rewards\n",
    "\n",
    "        for i in range(env.num_envs):\n",
    "            if dones[i]:\n",
    "                total_rewards[i].append((t, timestep, total_reward[i]))\n",
    "                episode += 1\n",
    "\n",
    "        if any(G for G in total_rewards):\n",
    "            episode_returns = sorted(\n",
    "                list(np.concatenate([G for G in total_rewards if G])),\n",
    "                key=lambda x: x[1]\n",
    "            )\n",
    "\n",
    "            avg_total_rewards.append(\n",
    "                (t, timestep, np.mean([G[-1] for G in episode_returns[-20:]]))\n",
    "            )\n",
    "\n",
    "        total_reward *= 1 - dones\n",
    "        observations = next_observations\n",
    "\n",
    "        ratio = math.ceil(100 * timestep / total_timesteps)\n",
    "        uptime = math.ceil(time.time() - start_time)\n",
    "\n",
    "        avg_return = avg_total_rewards[-1][-1] if avg_total_rewards else np.nan\n",
    "\n",
    "        print(f\"[{ratio:3d}% / {uptime:3d}s] timestep = {timestep}/{total_timesteps}, episode = {episode:3d}, avg_return = {avg_return:10.4f}\\r\", end=\"\")\n",
    "\n",
    "        if avg_return > break_condition:\n",
    "            return avg_total_rewards\n",
    "\n",
    "    return avg_total_rewards"
   ]
  },
  {
   "cell_type": "code",
   "execution_count": 4,
   "metadata": {
    "scrolled": false
   },
   "outputs": [
    {
     "name": "stdout",
     "output_type": "stream",
     "text": [
      "[  1% /   1s] timestep = 504/100000, episode =   5, avg_return =    59.0000\r"
     ]
    },
    {
     "ename": "AttributeError",
     "evalue": "'Rainbow' object has no attribute 'memory_n'",
     "output_type": "error",
     "traceback": [
      "\u001b[1;31m---------------------------------------------------------------------------\u001b[0m",
      "\u001b[1;31mAttributeError\u001b[0m                            Traceback (most recent call last)",
      "\u001b[1;32m<ipython-input-4-ca6793d2e475>\u001b[0m in \u001b[0;36m<module>\u001b[1;34m\u001b[0m\n\u001b[1;32m----> 1\u001b[1;33m \u001b[0mreturns\u001b[0m \u001b[1;33m=\u001b[0m \u001b[0mtrain\u001b[0m\u001b[1;33m(\u001b[0m\u001b[0mactor\u001b[0m\u001b[1;33m,\u001b[0m \u001b[0menv\u001b[0m\u001b[1;33m,\u001b[0m \u001b[1;36m100000\u001b[0m\u001b[1;33m,\u001b[0m \u001b[0mbreak_condition\u001b[0m\u001b[1;33m=\u001b[0m\u001b[1;36m320\u001b[0m\u001b[1;33m)\u001b[0m\u001b[1;33m\u001b[0m\u001b[1;33m\u001b[0m\u001b[0m\n\u001b[0m",
      "\u001b[1;32m<ipython-input-3-63fca86853b9>\u001b[0m in \u001b[0;36mtrain\u001b[1;34m(agent, env, total_timesteps, break_condition)\u001b[0m\n\u001b[0;32m     20\u001b[0m         \u001b[0mnext_observations\u001b[0m\u001b[1;33m,\u001b[0m \u001b[0mrewards\u001b[0m\u001b[1;33m,\u001b[0m \u001b[0mdones\u001b[0m\u001b[1;33m,\u001b[0m \u001b[0m_\u001b[0m \u001b[1;33m=\u001b[0m \u001b[0menv\u001b[0m\u001b[1;33m.\u001b[0m\u001b[0mstep\u001b[0m\u001b[1;33m(\u001b[0m\u001b[0mactions\u001b[0m\u001b[1;33m)\u001b[0m\u001b[1;33m\u001b[0m\u001b[1;33m\u001b[0m\u001b[0m\n\u001b[0;32m     21\u001b[0m         \u001b[0magent\u001b[0m\u001b[1;33m.\u001b[0m\u001b[0mremember\u001b[0m\u001b[1;33m(\u001b[0m\u001b[0mobservations\u001b[0m\u001b[1;33m,\u001b[0m \u001b[0mactions\u001b[0m\u001b[1;33m,\u001b[0m \u001b[0mrewards\u001b[0m\u001b[1;33m,\u001b[0m \u001b[0mnext_observations\u001b[0m\u001b[1;33m,\u001b[0m \u001b[0mdones\u001b[0m\u001b[1;33m)\u001b[0m\u001b[1;33m\u001b[0m\u001b[1;33m\u001b[0m\u001b[0m\n\u001b[1;32m---> 22\u001b[1;33m         \u001b[0magent\u001b[0m\u001b[1;33m.\u001b[0m\u001b[0mtrain\u001b[0m\u001b[1;33m(\u001b[0m\u001b[1;36m32\u001b[0m\u001b[1;33m)\u001b[0m\u001b[1;33m\u001b[0m\u001b[1;33m\u001b[0m\u001b[0m\n\u001b[0m\u001b[0;32m     23\u001b[0m \u001b[1;33m\u001b[0m\u001b[0m\n\u001b[0;32m     24\u001b[0m         \u001b[0mtimestep\u001b[0m \u001b[1;33m+=\u001b[0m \u001b[0mlen\u001b[0m\u001b[1;33m(\u001b[0m\u001b[0mobservations\u001b[0m\u001b[1;33m)\u001b[0m\u001b[1;33m\u001b[0m\u001b[1;33m\u001b[0m\u001b[0m\n",
      "\u001b[1;32mD:\\Git\\Aprendizado-por-Reforço\\DQNs\\Rainbow\\rainbow.py\u001b[0m in \u001b[0;36mtrain\u001b[1;34m(self, batch_size)\u001b[0m\n\u001b[0;32m    108\u001b[0m \u001b[1;33m\u001b[0m\u001b[0m\n\u001b[0;32m    109\u001b[0m         \u001b[0mgamma\u001b[0m \u001b[1;33m=\u001b[0m \u001b[0mself\u001b[0m\u001b[1;33m.\u001b[0m\u001b[0mgamma\u001b[0m \u001b[1;33m**\u001b[0m \u001b[0mself\u001b[0m\u001b[1;33m.\u001b[0m\u001b[0mn_step\u001b[0m\u001b[1;33m\u001b[0m\u001b[1;33m\u001b[0m\u001b[0m\n\u001b[1;32m--> 110\u001b[1;33m         \u001b[1;33m(\u001b[0m\u001b[0mstates\u001b[0m\u001b[1;33m,\u001b[0m \u001b[0mactions\u001b[0m\u001b[1;33m,\u001b[0m \u001b[0mrewards\u001b[0m\u001b[1;33m,\u001b[0m \u001b[0mnext_states\u001b[0m\u001b[1;33m,\u001b[0m \u001b[0mdones\u001b[0m\u001b[1;33m)\u001b[0m \u001b[1;33m=\u001b[0m \u001b[0mself\u001b[0m\u001b[1;33m.\u001b[0m\u001b[0mmemory_n\u001b[0m\u001b[1;33m.\u001b[0m\u001b[0msample_batch_from_idxs\u001b[0m\u001b[1;33m(\u001b[0m\u001b[0mbatch_indexes\u001b[0m\u001b[1;33m)\u001b[0m\u001b[1;33m\u001b[0m\u001b[1;33m\u001b[0m\u001b[0m\n\u001b[0m\u001b[0;32m    111\u001b[0m         \u001b[0mn_loss\u001b[0m \u001b[1;33m=\u001b[0m \u001b[0mself\u001b[0m\u001b[1;33m.\u001b[0m\u001b[0mcalculate_loss\u001b[0m\u001b[1;33m(\u001b[0m\u001b[0mstates\u001b[0m\u001b[1;33m,\u001b[0m \u001b[0mactions\u001b[0m\u001b[1;33m,\u001b[0m \u001b[0mrewards\u001b[0m\u001b[1;33m,\u001b[0m \u001b[0mnext_states\u001b[0m\u001b[1;33m,\u001b[0m \u001b[0mdones\u001b[0m\u001b[1;33m,\u001b[0m \u001b[0mgamma\u001b[0m\u001b[1;33m)\u001b[0m\u001b[1;33m\u001b[0m\u001b[1;33m\u001b[0m\u001b[0m\n\u001b[0;32m    112\u001b[0m \u001b[1;33m\u001b[0m\u001b[0m\n",
      "\u001b[1;31mAttributeError\u001b[0m: 'Rainbow' object has no attribute 'memory_n'"
     ]
    }
   ],
   "source": [
    "returns = train(actor, env, 100000, break_condition=320)"
   ]
  },
  {
   "cell_type": "code",
   "execution_count": null,
   "metadata": {},
   "outputs": [],
   "source": [
    "import imageio\n",
    "import numpy as np\n",
    "\n",
    "def evaluate(agent, env, n_episodes=5, render=False, record=False):\n",
    "    images = []\n",
    "    for episode in range(n_episodes):\n",
    "        obs = env.reset()        \n",
    "        total_reward = 0.0\n",
    "        episode_length = 0\n",
    "\n",
    "        done = False\n",
    "        while not done:\n",
    "            action = agent.act(obs.reshape(1, *obs.shape))\n",
    "            next_obs, reward, done, _ = env.step(action[0])\n",
    "            obs = next_obs\n",
    "            \n",
    "            total_reward += reward\n",
    "            episode_length += 1\n",
    "\n",
    "            if render:\n",
    "                env.render()\n",
    "            if record:\n",
    "                images.append(env.render(mode='rgb_array'))\n",
    "        \n",
    "        if render:\n",
    "            env.close()\n",
    "\n",
    "        print(f\">> episode = {episode + 1} / {n_episodes}, total_reward = {total_reward:10.4f}, episode_length = {episode_length}\")\n",
    "        \n",
    "    if record:\n",
    "        imageio.mimsave('../img/CartPolePPO.gif', [np.array(img) for i, img in enumerate(images) if i%2 == 0], fps=29)"
   ]
  },
  {
   "cell_type": "code",
   "execution_count": null,
   "metadata": {},
   "outputs": [],
   "source": [
    "eval_env = gym.make(\"CartPole-v1\")\n",
    "evaluate(actor, eval_env, 1, True, False)"
   ]
  },
  {
   "cell_type": "code",
   "execution_count": null,
   "metadata": {},
   "outputs": [],
   "source": [
    "import matplotlib.pyplot as plt\n",
    "\n",
    "rewards = np.transpose(returns)[2]\n",
    "plt.plot(range(len(rewards)), rewards, label='Returns')\n",
    "plt.legend()\n",
    "plt.show()"
   ]
  }
 ],
 "metadata": {
  "kernelspec": {
   "display_name": "Python 3",
   "language": "python",
   "name": "python3"
  },
  "language_info": {
   "codemirror_mode": {
    "name": "ipython",
    "version": 3
   },
   "file_extension": ".py",
   "mimetype": "text/x-python",
   "name": "python",
   "nbconvert_exporter": "python",
   "pygments_lexer": "ipython3",
   "version": "3.7.6"
  }
 },
 "nbformat": 4,
 "nbformat_minor": 4
}
