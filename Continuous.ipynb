{
 "cells": [
  {
   "cell_type": "code",
   "execution_count": null,
   "metadata": {},
   "outputs": [],
   "source": [
    "import gym\n",
    "\n",
    "env = gym.make(\"LunarLanderContinuous-v2\")\n",
    "env.seed(0)"
   ]
  },
  {
   "cell_type": "code",
   "execution_count": null,
   "metadata": {},
   "outputs": [],
   "source": [
    "from ddpg import DDPG\n",
    "from td3 import TD3\n",
    "\n",
    "actor = TD3(env)"
   ]
  },
  {
   "cell_type": "code",
   "execution_count": null,
   "metadata": {},
   "outputs": [],
   "source": [
    "import itertools\n",
    "\n",
    "def get_experiences(env, actor, episodes=50):\n",
    "    for episode in range(0, episodes):\n",
    "        obs = env.reset()\n",
    "        done = False\n",
    "        for t in itertools.count():\n",
    "            action = actor.act(obs)\n",
    "            obs2, reward, done, _ = env.step(action)\n",
    "            actor.remember(obs, action, reward, obs2, done)\n",
    "            obs = obs2\n",
    "            if done:\n",
    "                break"
   ]
  },
  {
   "cell_type": "code",
   "execution_count": null,
   "metadata": {},
   "outputs": [],
   "source": [
    "import itertools\n",
    "import numpy as np\n",
    "\n",
    "def train(env, actor, episodes=100):\n",
    "    returns = []\n",
    "    mean = 0\n",
    "    for episode in range(1, episodes+1):\n",
    "        obs = env.reset()\n",
    "        score = 0\n",
    "        for t in itertools.count():\n",
    "            action = actor.act(obs)\n",
    "            obs2, reward, done, _ = env.step(action)\n",
    "            actor.remember(obs, action, reward, obs2, done)  \n",
    "            actor.train(batch_size=100)\n",
    "            obs = obs2\n",
    "            score += reward\n",
    "            if done:\n",
    "                returns.append(score)\n",
    "                mean = np.mean(returns[-10:])\n",
    "                print(\"Episode: \" + str(episode) + \", Score: \" +str(score) + \", Mean Score: \" + str(mean))\n",
    "                if mean > 180:\n",
    "                    return returns\n",
    "                break    \n",
    "    return returns"
   ]
  },
  {
   "cell_type": "code",
   "execution_count": null,
   "metadata": {},
   "outputs": [],
   "source": [
    "get_experiences(env, actor, episodes=25)"
   ]
  },
  {
   "cell_type": "code",
   "execution_count": null,
   "metadata": {},
   "outputs": [],
   "source": [
    "returns = train(env, actor, episodes=1500)"
   ]
  },
  {
   "cell_type": "code",
   "execution_count": null,
   "metadata": {},
   "outputs": [],
   "source": [
    "import imageio\n",
    "import itertools\n",
    "import numpy as np\n",
    "\n",
    "def run_episode(env, model, render=False, record=False):\n",
    "    images = []\n",
    "    obs = env.reset()\n",
    "    score = 0\n",
    "    for t in itertools.count():\n",
    "        if record:\n",
    "            images.append(env.render(mode='rgb_array'))\n",
    "        if render:\n",
    "            env.render()\n",
    "        action = model.act(obs, noise=False)\n",
    "        obs, reward, done, info = env.step(action)\n",
    "        score += reward\n",
    "        if done:\n",
    "            print(\"Score: \" + str(score))\n",
    "            env.close()\n",
    "            break\n",
    "            \n",
    "    if record:\n",
    "        imageio.mimsave('img/LunarTD3.gif', [np.array(img) for i, img in enumerate(images) if i%2 == 0], fps=29)"
   ]
  },
  {
   "cell_type": "code",
   "execution_count": null,
   "metadata": {},
   "outputs": [],
   "source": [
    "run_episode(env, actor, render=True, record=False)"
   ]
  },
  {
   "cell_type": "code",
   "execution_count": null,
   "metadata": {},
   "outputs": [],
   "source": [
    "import matplotlib.pyplot as plt\n",
    "\n",
    "plt.plot(range(len(returns)), returns, label='Returns')\n",
    "plt.legend()\n",
    "plt.show()"
   ]
  }
 ],
 "metadata": {
  "kernelspec": {
   "display_name": "Python 3",
   "language": "python",
   "name": "python3"
  },
  "language_info": {
   "codemirror_mode": {
    "name": "ipython",
    "version": 3
   },
   "file_extension": ".py",
   "mimetype": "text/x-python",
   "name": "python",
   "nbconvert_exporter": "python",
   "pygments_lexer": "ipython3",
   "version": "3.7.6"
  }
 },
 "nbformat": 4,
 "nbformat_minor": 4
}
