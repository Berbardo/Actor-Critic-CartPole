{
 "cells": [
  {
   "cell_type": "code",
   "execution_count": 1,
   "metadata": {},
   "outputs": [
    {
     "name": "stderr",
     "output_type": "stream",
     "text": [
      "D:\\ProgramData\\Anaconda3\\lib\\site-packages\\gym\\logger.py:30: UserWarning: \u001b[33mWARN: Box bound precision lowered by casting to float32\u001b[0m\n",
      "  warnings.warn(colorize('%s: %s'%('WARN', msg % args), 'yellow'))\n"
     ]
    },
    {
     "data": {
      "text/plain": [
       "[0]"
      ]
     },
     "execution_count": 1,
     "metadata": {},
     "output_type": "execute_result"
    }
   ],
   "source": [
    "import gym\n",
    "\n",
    "env = gym.make(\"LunarLander-v2\")\n",
    "env.seed(0)"
   ]
  },
  {
   "cell_type": "code",
   "execution_count": 2,
   "metadata": {},
   "outputs": [
    {
     "name": "stderr",
     "output_type": "stream",
     "text": [
      "D:\\ProgramData\\Anaconda3\\lib\\site-packages\\tensorflow\\python\\framework\\dtypes.py:516: FutureWarning: Passing (type, 1) or '1type' as a synonym of type is deprecated; in a future version of numpy, it will be understood as (type, (1,)) / '(1,)type'.\n",
      "  _np_qint8 = np.dtype([(\"qint8\", np.int8, 1)])\n",
      "D:\\ProgramData\\Anaconda3\\lib\\site-packages\\tensorflow\\python\\framework\\dtypes.py:517: FutureWarning: Passing (type, 1) or '1type' as a synonym of type is deprecated; in a future version of numpy, it will be understood as (type, (1,)) / '(1,)type'.\n",
      "  _np_quint8 = np.dtype([(\"quint8\", np.uint8, 1)])\n",
      "D:\\ProgramData\\Anaconda3\\lib\\site-packages\\tensorflow\\python\\framework\\dtypes.py:518: FutureWarning: Passing (type, 1) or '1type' as a synonym of type is deprecated; in a future version of numpy, it will be understood as (type, (1,)) / '(1,)type'.\n",
      "  _np_qint16 = np.dtype([(\"qint16\", np.int16, 1)])\n",
      "D:\\ProgramData\\Anaconda3\\lib\\site-packages\\tensorflow\\python\\framework\\dtypes.py:519: FutureWarning: Passing (type, 1) or '1type' as a synonym of type is deprecated; in a future version of numpy, it will be understood as (type, (1,)) / '(1,)type'.\n",
      "  _np_quint16 = np.dtype([(\"quint16\", np.uint16, 1)])\n",
      "D:\\ProgramData\\Anaconda3\\lib\\site-packages\\tensorflow\\python\\framework\\dtypes.py:520: FutureWarning: Passing (type, 1) or '1type' as a synonym of type is deprecated; in a future version of numpy, it will be understood as (type, (1,)) / '(1,)type'.\n",
      "  _np_qint32 = np.dtype([(\"qint32\", np.int32, 1)])\n",
      "D:\\ProgramData\\Anaconda3\\lib\\site-packages\\tensorflow\\python\\framework\\dtypes.py:525: FutureWarning: Passing (type, 1) or '1type' as a synonym of type is deprecated; in a future version of numpy, it will be understood as (type, (1,)) / '(1,)type'.\n",
      "  np_resource = np.dtype([(\"resource\", np.ubyte, 1)])\n",
      "D:\\ProgramData\\Anaconda3\\lib\\site-packages\\tensorboard\\compat\\tensorflow_stub\\dtypes.py:541: FutureWarning: Passing (type, 1) or '1type' as a synonym of type is deprecated; in a future version of numpy, it will be understood as (type, (1,)) / '(1,)type'.\n",
      "  _np_qint8 = np.dtype([(\"qint8\", np.int8, 1)])\n",
      "D:\\ProgramData\\Anaconda3\\lib\\site-packages\\tensorboard\\compat\\tensorflow_stub\\dtypes.py:542: FutureWarning: Passing (type, 1) or '1type' as a synonym of type is deprecated; in a future version of numpy, it will be understood as (type, (1,)) / '(1,)type'.\n",
      "  _np_quint8 = np.dtype([(\"quint8\", np.uint8, 1)])\n",
      "D:\\ProgramData\\Anaconda3\\lib\\site-packages\\tensorboard\\compat\\tensorflow_stub\\dtypes.py:543: FutureWarning: Passing (type, 1) or '1type' as a synonym of type is deprecated; in a future version of numpy, it will be understood as (type, (1,)) / '(1,)type'.\n",
      "  _np_qint16 = np.dtype([(\"qint16\", np.int16, 1)])\n",
      "D:\\ProgramData\\Anaconda3\\lib\\site-packages\\tensorboard\\compat\\tensorflow_stub\\dtypes.py:544: FutureWarning: Passing (type, 1) or '1type' as a synonym of type is deprecated; in a future version of numpy, it will be understood as (type, (1,)) / '(1,)type'.\n",
      "  _np_quint16 = np.dtype([(\"quint16\", np.uint16, 1)])\n",
      "D:\\ProgramData\\Anaconda3\\lib\\site-packages\\tensorboard\\compat\\tensorflow_stub\\dtypes.py:545: FutureWarning: Passing (type, 1) or '1type' as a synonym of type is deprecated; in a future version of numpy, it will be understood as (type, (1,)) / '(1,)type'.\n",
      "  _np_qint32 = np.dtype([(\"qint32\", np.int32, 1)])\n",
      "D:\\ProgramData\\Anaconda3\\lib\\site-packages\\tensorboard\\compat\\tensorflow_stub\\dtypes.py:550: FutureWarning: Passing (type, 1) or '1type' as a synonym of type is deprecated; in a future version of numpy, it will be understood as (type, (1,)) / '(1,)type'.\n",
      "  np_resource = np.dtype([(\"resource\", np.ubyte, 1)])\n"
     ]
    },
    {
     "name": "stdout",
     "output_type": "stream",
     "text": [
      "WARNING:tensorflow:From D:\\ProgramData\\Anaconda3\\lib\\site-packages\\tensorflow\\python\\ops\\init_ops.py:1251: calling VarianceScaling.__init__ (from tensorflow.python.ops.init_ops) with dtype is deprecated and will be removed in a future version.\n",
      "Instructions for updating:\n",
      "Call initializer instance with the dtype argument instead of passing it to the constructor\n"
     ]
    }
   ],
   "source": [
    "from ppo import PPO\n",
    "from shared_ppo import SharedPPO\n",
    "\n",
    "actor = PPO(env, lam=0.95)"
   ]
  },
  {
   "cell_type": "code",
   "execution_count": 3,
   "metadata": {},
   "outputs": [],
   "source": [
    "def get_experiences(env, actor, episodes=50):\n",
    "    for episode in range(0, episodes):\n",
    "        obs = env.reset()\n",
    "        done = False\n",
    "        while not done:\n",
    "            action = actor.act(obs)\n",
    "            obs2, reward, done, _ = env.step(action)\n",
    "            actor.remember(obs, action, reward, obs2, done)\n",
    "            obs = obs2"
   ]
  },
  {
   "cell_type": "code",
   "execution_count": 4,
   "metadata": {},
   "outputs": [],
   "source": [
    "import numpy as np\n",
    "\n",
    "def train(env, actor, episodes=100):\n",
    "    returns = []\n",
    "    mean = 0\n",
    "    for episode in range(1, episodes+1):\n",
    "        obs = env.reset()\n",
    "        score = 0\n",
    "        done = False\n",
    "        while not done:\n",
    "            action, probs = actor.act(obs)\n",
    "            obs2, reward, done, _ = env.step(action)\n",
    "            actor.remember(obs, action, probs, reward, obs2, done)\n",
    "            actor.train(256)\n",
    "            obs = obs2\n",
    "            score += reward\n",
    "            if done:\n",
    "                if episode % 100 == 99:\n",
    "                    actor.epsilon = 0.2\n",
    "                returns.append(score)\n",
    "                mean = np.mean(returns[-10:])\n",
    "                if episode % 10 == 0:\n",
    "                    print(\"Episode: \" + str(episode) + \", Score: \" + str(score) + \" Mean Score: \" + str(mean))\n",
    "                if mean >= 200:\n",
    "                    return returns\n",
    "    \n",
    "    return returns"
   ]
  },
  {
   "cell_type": "code",
   "execution_count": 5,
   "metadata": {},
   "outputs": [],
   "source": [
    "# get_experiences(env, actor)"
   ]
  },
  {
   "cell_type": "code",
   "execution_count": 6,
   "metadata": {
    "scrolled": false
   },
   "outputs": [
    {
     "name": "stdout",
     "output_type": "stream",
     "text": [
      "WARNING:tensorflow:From D:\\ProgramData\\Anaconda3\\lib\\site-packages\\tensorflow\\python\\ops\\math_grad.py:1250: add_dispatch_support.<locals>.wrapper (from tensorflow.python.ops.array_ops) is deprecated and will be removed in a future version.\n",
      "Instructions for updating:\n",
      "Use tf.where in 2.0, which has the same broadcast rule as np.where\n",
      "Episode: 10, Score: -51.767962395032576 Mean Score: -180.5470467876246\n",
      "Episode: 20, Score: -450.5638609330888 Mean Score: -165.20539914427826\n",
      "Episode: 30, Score: -200.89209640546932 Mean Score: -130.63253844626016\n",
      "Episode: 40, Score: -62.43354670516338 Mean Score: -136.2800718169114\n",
      "Episode: 50, Score: -38.45616826694283 Mean Score: -91.23859777767352\n",
      "Episode: 60, Score: -149.66643399731063 Mean Score: -71.59905382335607\n",
      "Episode: 70, Score: -28.676708597574702 Mean Score: -53.0879700630079\n",
      "Episode: 80, Score: -132.62596306935052 Mean Score: -56.68414318868427\n",
      "Episode: 90, Score: 75.94415864655574 Mean Score: 1.3152719617362891\n",
      "Episode: 100, Score: -57.263509843765576 Mean Score: -13.286250053436067\n",
      "Episode: 110, Score: -57.08258383316475 Mean Score: -8.761237359641493\n",
      "Episode: 120, Score: 104.134815797074 Mean Score: -10.008849336476592\n",
      "Episode: 130, Score: -142.6162702851759 Mean Score: -41.926410709948115\n",
      "Episode: 140, Score: 104.78286902317457 Mean Score: 24.49591515261425\n",
      "Episode: 150, Score: -23.54147075803938 Mean Score: 5.597294265170618\n",
      "Episode: 160, Score: -22.996441098340767 Mean Score: 4.84066703934189\n",
      "Episode: 170, Score: -51.21505140004494 Mean Score: -33.76895788265725\n",
      "Episode: 180, Score: -98.13346368259252 Mean Score: -5.596316560367965\n",
      "Episode: 190, Score: -23.366041650165783 Mean Score: 71.69730217159454\n",
      "Episode: 200, Score: -83.66816142336128 Mean Score: 17.763407880461106\n",
      "Episode: 210, Score: -117.63704429769825 Mean Score: 4.273893147332444\n",
      "Episode: 220, Score: -51.93256493582474 Mean Score: -13.957084810709613\n",
      "Episode: 230, Score: 190.7299800683629 Mean Score: 17.763352996279103\n",
      "Episode: 240, Score: -46.27193447574159 Mean Score: -46.170158653628775\n",
      "Episode: 250, Score: -8.81027325369945 Mean Score: 144.49622757209877\n",
      "Episode: 260, Score: -48.162729837851415 Mean Score: 76.53059243157554\n",
      "Episode: 270, Score: -32.22405215401038 Mean Score: 21.48377434138672\n",
      "Episode: 280, Score: -47.199223387898286 Mean Score: 47.70143603157076\n",
      "Episode: 290, Score: -58.72652620608365 Mean Score: -21.032702288306815\n",
      "Episode: 300, Score: -29.57551032135642 Mean Score: -1.441626191783655\n",
      "Episode: 310, Score: 257.2995174511946 Mean Score: 73.56812614021844\n",
      "Episode: 320, Score: 202.62636568474926 Mean Score: 123.80133186554038\n",
      "Episode: 330, Score: 269.73796359638175 Mean Score: 128.910888992459\n",
      "Episode: 340, Score: -38.92439342110232 Mean Score: 51.788020355589325\n",
      "Episode: 350, Score: 191.52086277496062 Mean Score: -60.5071260757122\n",
      "Episode: 360, Score: -74.46104187633424 Mean Score: 28.197070071194368\n",
      "Episode: 370, Score: -32.79735523052571 Mean Score: -19.84577225449863\n",
      "Episode: 380, Score: -95.13892278293913 Mean Score: -5.323261911453189\n",
      "Episode: 390, Score: -80.51788409152275 Mean Score: -2.763876568125755\n",
      "Episode: 400, Score: 240.00911157706392 Mean Score: 8.316238919229013\n",
      "Episode: 410, Score: -62.466747064075506 Mean Score: 110.63715276773863\n",
      "Episode: 420, Score: -50.07621215137215 Mean Score: 50.63732508065463\n",
      "Episode: 430, Score: -62.55332048810702 Mean Score: 36.53211721752961\n",
      "Episode: 440, Score: -4.006163861032022 Mean Score: 4.470447428187599\n",
      "Episode: 450, Score: -31.511882192356566 Mean Score: 117.91493436707837\n",
      "Episode: 460, Score: 265.7407872376268 Mean Score: 132.47707612975367\n",
      "Episode: 470, Score: -48.667982192900524 Mean Score: 58.06841007627581\n",
      "Episode: 480, Score: -26.282554925838838 Mean Score: 84.56619390532212\n",
      "Episode: 490, Score: -17.74566819135279 Mean Score: 70.1998621920824\n",
      "Episode: 500, Score: -19.858513079675944 Mean Score: 112.81316171449976\n",
      "Episode: 510, Score: -32.26190317940494 Mean Score: 7.108109104953878\n",
      "Episode: 520, Score: -37.41655069217144 Mean Score: 80.33295782202146\n",
      "Episode: 530, Score: 30.567806210752053 Mean Score: 30.865995873308815\n",
      "Episode: 540, Score: -24.706014872414286 Mean Score: 181.42675326821478\n"
     ]
    }
   ],
   "source": [
    "returns = train(env, actor, episodes=700)"
   ]
  },
  {
   "cell_type": "code",
   "execution_count": 7,
   "metadata": {},
   "outputs": [],
   "source": [
    "import imageio\n",
    "import numpy as np\n",
    "\n",
    "def run_episode(env, model, render=False, record=False):\n",
    "    images = []\n",
    "    obs = env.reset()\n",
    "    done = False\n",
    "    score = 0\n",
    "    while not done:\n",
    "        if record:\n",
    "            images.append(env.render(mode='rgb_array'))\n",
    "        if render:\n",
    "            env.render()\n",
    "        action, probs = model.act(obs)\n",
    "        obs, reward, done, info = env.step(action)\n",
    "        score += reward\n",
    "        if done:\n",
    "            print(\"Score: \" + str(score))\n",
    "            env.close()\n",
    "            \n",
    "    if record:\n",
    "        imageio.mimsave('img/LunarLander.gif', [np.array(img) for i, img in enumerate(images) if i%2 == 0], fps=29)"
   ]
  },
  {
   "cell_type": "code",
   "execution_count": 32,
   "metadata": {},
   "outputs": [
    {
     "name": "stdout",
     "output_type": "stream",
     "text": [
      "Score: 270.74138368275896\n"
     ]
    }
   ],
   "source": [
    "run_episode(env, actor, render=True, record=True)"
   ]
  }
 ],
 "metadata": {
  "kernelspec": {
   "display_name": "Python 3",
   "language": "python",
   "name": "python3"
  },
  "language_info": {
   "codemirror_mode": {
    "name": "ipython",
    "version": 3
   },
   "file_extension": ".py",
   "mimetype": "text/x-python",
   "name": "python",
   "nbconvert_exporter": "python",
   "pygments_lexer": "ipython3",
   "version": "3.7.6"
  }
 },
 "nbformat": 4,
 "nbformat_minor": 4
}
