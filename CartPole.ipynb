{
 "cells": [
  {
   "cell_type": "code",
   "execution_count": 6,
   "metadata": {},
   "outputs": [],
   "source": [
    "import itertools\n",
    "import imageio\n",
    "\n",
    "def run_episode(env, model, render=False, record=False):\n",
    "    images = []\n",
    "    obs = env.reset()\n",
    "    for t in itertools.count():\n",
    "        if record:\n",
    "            images.append(env.render(mode='rgb_array'))\n",
    "        if render:\n",
    "            env.render()\n",
    "        action = model.act(obs)\n",
    "        obs, reward, done, info = env.step(action)\n",
    "        if done:\n",
    "            print(\"Score: \" + str(t + 1))\n",
    "            env.close()\n",
    "            break\n",
    "            \n",
    "    if record:\n",
    "        imageio.mimsave('cartpole.gif', [np.array(img) for i, img in enumerate(images) if i%2 == 0], fps=29)"
   ]
  },
  {
   "cell_type": "code",
   "execution_count": 7,
   "metadata": {},
   "outputs": [
    {
     "data": {
      "text/plain": [
       "[0]"
      ]
     },
     "execution_count": 7,
     "metadata": {},
     "output_type": "execute_result"
    }
   ],
   "source": [
    "import gym\n",
    "\n",
    "env = gym.make(\"CartPole-v1\")\n",
    "env.seed(0)"
   ]
  },
  {
   "cell_type": "code",
   "execution_count": 8,
   "metadata": {},
   "outputs": [],
   "source": [
    "from td_actor_critic import TDActorCritic\n",
    "from a2c import A2C\n",
    "\n",
    "actor = A2C(env)"
   ]
  },
  {
   "cell_type": "code",
   "execution_count": 9,
   "metadata": {},
   "outputs": [],
   "source": [
    "def train(env, actor, episodes=100):\n",
    "    returns = []\n",
    "    mean = 0\n",
    "    for episode in range(1, episodes+1):\n",
    "        obs = env.reset()\n",
    "        score = 0\n",
    "        for t in itertools.count():\n",
    "            action = actor.act(obs)\n",
    "            obs2, reward, done, _ = env.step(action)\n",
    "            actor.remember(obs, action, reward, obs2, done)\n",
    "            actor.train()\n",
    "            obs = obs2\n",
    "            score += reward\n",
    "            if done:\n",
    "                returns.append(score)\n",
    "                mean += score/10\n",
    "                if episode % 10 == 0:\n",
    "                    print(\"Episode: \" + str(episode) + \", Mean Score: \" + str(mean))\n",
    "                    if mean > 450:\n",
    "                        return returns\n",
    "                    mean = 0\n",
    "                break\n",
    "    \n",
    "    return returns"
   ]
  },
  {
   "cell_type": "code",
   "execution_count": 10,
   "metadata": {},
   "outputs": [
    {
     "name": "stdout",
     "output_type": "stream",
     "text": [
      "Episode: 10, Mean Score: 18.9\n",
      "Episode: 20, Mean Score: 19.699999999999996\n",
      "Episode: 30, Mean Score: 53.5\n",
      "Episode: 40, Mean Score: 43.9\n",
      "Episode: 50, Mean Score: 69.5\n",
      "Episode: 60, Mean Score: 173.29999999999998\n",
      "Episode: 70, Mean Score: 144.7\n",
      "Episode: 80, Mean Score: 305.6\n",
      "Episode: 90, Mean Score: 245.80000000000004\n",
      "Episode: 100, Mean Score: 344.20000000000005\n",
      "Episode: 110, Mean Score: 419.3\n"
     ]
    }
   ],
   "source": [
    "returns = train(env, actor, episodes=300)"
   ]
  },
  {
   "cell_type": "code",
   "execution_count": 11,
   "metadata": {},
   "outputs": [
    {
     "name": "stdout",
     "output_type": "stream",
     "text": [
      "Score: 500\n"
     ]
    }
   ],
   "source": [
    "run_episode(env, actor, render=True)"
   ]
  },
  {
   "cell_type": "code",
   "execution_count": 14,
   "metadata": {},
   "outputs": [
    {
     "data": {
      "image/png": "[encoded data removed]",
      "text/plain": [
       "<Figure size 432x288 with 1 Axes>"
      ]
     },
     "metadata": {
      "needs_background": "light"
     },
     "output_type": "display_data"
    }
   ],
   "source": [
    "import matplotlib.pyplot as plt\n",
    "\n",
    "plt.plot(range(len(returns)), returns, label='Returns')\n",
    "plt.legend()\n",
    "plt.show()"
   ]
  }
 ],
 "metadata": {
  "kernelspec": {
   "display_name": "Python 3",
   "language": "python",
   "name": "python3"
  },
  "language_info": {
   "codemirror_mode": {
    "name": "ipython",
    "version": 3
   },
   "file_extension": ".py",
   "mimetype": "text/x-python",
   "name": "python",
   "nbconvert_exporter": "python",
   "pygments_lexer": "ipython3",
   "version": "3.7.6"
  }
 },
 "nbformat": 4,
 "nbformat_minor": 4
}
